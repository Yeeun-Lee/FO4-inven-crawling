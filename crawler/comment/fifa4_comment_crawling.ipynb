{
 "cells": [
  {
   "cell_type": "code",
   "execution_count": 1,
   "metadata": {},
   "outputs": [],
   "source": [
    "# module set\n",
    "import numpy as np\n",
    "import pandas as pd\n",
    "\n",
    "import requests\n",
    "from bs4 import BeautifulSoup as bs\n",
    "from selenium import webdriver\n",
    "from selenium.webdriver.common.keys import Keys\n",
    "from selenium.webdriver.support.ui import Select\n",
    "from selenium.webdriver.common.by import By\n",
    "from selenium.webdriver.support.ui import WebDriverWait\n",
    "from selenium.webdriver.support import expected_conditions as EC\n",
    "from selenium.common import exceptions\n",
    "\n",
    "import time\n",
    "import lxml\n",
    "\n",
    "from collections import OrderedDict\n",
    "from itertools import repeat\n",
    "\n",
    "import matplotlib.pyplot as plt\n",
    "import seaborn as sns"
   ]
  },
  {
   "cell_type": "code",
   "execution_count": 2,
   "metadata": {},
   "outputs": [],
   "source": [
    "#피파인벤 연결\n",
    "driver = webdriver.Chrome('./chromedriver')\n",
    "player_url = 'http://fifaonline4.inven.co.kr/dataninfo/player/?code='"
   ]
  },
  {
   "cell_type": "code",
   "execution_count": 3,
   "metadata": {},
   "outputs": [],
   "source": [
    "seasons = [['LH','TKL','20KL','19S', '19UCL', '20TOTY','20TOTY-N'],\n",
    "          ['NG', 'COC', 'OTW', '19A', '19', 'HOT', '19TOTS'],\n",
    "          ['ICON', 'TC', '18S', 'MC-ICON', '18TOTY', 'GR', '19KFA'],\n",
    "          ['18A', 'TT', 'TB', 'MCFC', '18KFA', 'NHD']]"
   ]
  },
  {
   "cell_type": "code",
   "execution_count": 4,
   "metadata": {},
   "outputs": [],
   "source": [
    "def click_by_class(x, y):\n",
    "    driver.get('http://fifaonline4.inven.co.kr/dataninfo/player/')\n",
    "    driver.implicitly_wait(5)\n",
    "#     //*[@id=\"fifaonline4Db\"]/div[2]/ul[1]/li[2]/div[2]/div[2]/label[1]/span\n",
    "    temp_path = f'//*[@id=\"fifaonline4Db\"]/div[2]/ul[1]/li[2]/div[2]/div[{x}]/label[{y}]/span'\n",
    "    button = driver.find_element_by_xpath(temp_path).click()\n",
    "    driver.implicitly_wait(10)\n",
    "    search = driver.find_element_by_xpath('//*[@id=\"fifaonline4Db\"]/div[2]/ul[2]/li[17]/button[1]/img')\n",
    "    search.click()\n",
    "    driver.implicitly_wait(10)"
   ]
  },
  {
   "cell_type": "code",
   "execution_count": 5,
   "metadata": {},
   "outputs": [],
   "source": [
    "def players_info(html):\n",
    "    soup = bs(html, 'html.parser')\n",
    "    search_url_list = []\n",
    "    \n",
    "    for link in soup.find_all('a'):\n",
    "        if 'href' in link.attrs:\n",
    "            li = link.attrs['href'].split('\\n')\n",
    "            if li[0].startswith(player_url):\n",
    "                search_url_list.append(li[0])\n",
    "            else:\n",
    "                continue\n",
    "    search_url_list = list(OrderedDict(zip(search_url_list, repeat(None))))\n",
    "    print(\"num of url : \", len(search_url_list))\n",
    "    print(search_url_list[:5])\n",
    "    return search_url_list"
   ]
  },
  {
   "cell_type": "code",
   "execution_count": 6,
   "metadata": {},
   "outputs": [],
   "source": [
    "def get_comment(urls):\n",
    "    total_df = pd.DataFrame()\n",
    "    for i in range(len(urls)):\n",
    "        driver.get(urls[i])\n",
    "        driver.implicitly_wait(2)\n",
    "\n",
    "        html = driver.page_source\n",
    "        one_soup = bs(html, 'html.parser')\n",
    "        one_player_db=one_soup.find_all('span', class_='comment')\n",
    "        one_player_name = one_soup.find('div', class_=\"fifa4 tooltip_title\")\n",
    "        player_name = one_player_name.text.strip()\n",
    "        player_list = [one_player_db]\n",
    "        try:\n",
    "            while True: # 댓글 페이지가 몇개인지 모르므로.            \n",
    "                element = driver.find_element_by_xpath('//*[@id=\"cmtPaging\"]/span/span[3]/a')\n",
    "                driver.execute_script(\"arguments[0].click();\", element)\n",
    "                driver.implicitly_wait(2)\n",
    "                html = driver.page_source\n",
    "                one_soup = bs(html, 'html.parser')\n",
    "                comments = one_soup.find_all('span', class_='comment')\n",
    "                player_list.append(comments)\n",
    "\n",
    "        except exceptions.ElementNotVisibleException as e: # 페이지 끝\n",
    "            pass\n",
    "\n",
    "        except Exception as e: # 다른 예외 발생시 확인\n",
    "            print(e)\n",
    "\n",
    "        cmt_list = []\n",
    "        for db in player_list:\n",
    "            for cmt in db:\n",
    "                cmt_list.append(cmt.text)\n",
    "        one_df = pd.DataFrame({'name': player_name, 'comment': cmt_list})\n",
    "        total_df = pd.concat([total_df, one_df], axis = 0)\n",
    "    total_df = total_df.reset_index(drop=True)\n",
    "    return total_df"
   ]
  },
  {
   "cell_type": "code",
   "execution_count": null,
   "metadata": {
    "scrolled": false
   },
   "outputs": [],
   "source": [
    "for i in range(0, 4):\n",
    "    for j in range(7):\n",
    "        if i==3 and j == 6:\n",
    "            break\n",
    "        click_by_class(i+1, j+1)\n",
    "        time.sleep(10)\n",
    "        html = driver.page_source\n",
    "        urls = players_info(html)\n",
    "        comment_df = get_comment(urls)\n",
    "        comment_df.to_csv(\"./comment_data/\"+seasons[i][j]+'_comment.csv', mode='w')\n",
    "    "
   ]
  },
  {
   "cell_type": "code",
   "execution_count": 15,
   "metadata": {},
   "outputs": [],
   "source": [
    "def get_comment_ex(urls):\n",
    "    total_df = pd.DataFrame()\n",
    "    for i in range(2):\n",
    "        driver.get(urls[i])\n",
    "        driver.implicitly_wait(2)\n",
    "\n",
    "        html = driver.page_source\n",
    "        one_soup = bs(html, 'html.parser')\n",
    "        one_player_db=one_soup.find_all('span', class_='comment')\n",
    "        one_player_name = one_soup.find('div', class_=\"fifa4 tooltip_title\")\n",
    "        player_name = one_player_name.text.strip()\n",
    "        player_list = [one_player_db]\n",
    "        try:\n",
    "            while True: # 댓글 페이지가 몇개인지 모르므로.            \n",
    "                element = driver.find_element_by_xpath('//*[@id=\"cmtPaging\"]/span/span[3]/a')\n",
    "                driver.execute_script(\"arguments[0].click();\", element)\n",
    "                driver.implicitly_wait(2)\n",
    "                html = driver.page_source\n",
    "                one_soup = bs(html, 'html.parser')\n",
    "                comments = one_soup.find_all('span', class_='comment')\n",
    "                player_list.append(comments)\n",
    "\n",
    "        except exceptions.ElementNotVisibleException as e: # 페이지 끝\n",
    "            pass\n",
    "\n",
    "        except Exception as e: # 다른 예외 발생시 확인\n",
    "            print(e)\n",
    "\n",
    "        cmt_list = []\n",
    "        for db in player_list:\n",
    "            for cmt in db:\n",
    "                cmt_list.append(cmt.text)\n",
    "        one_df = pd.DataFrame({'name': player_name, 'comment': cmt_list})\n",
    "        total_df = pd.concat([total_df, one_df], axis = 0)\n",
    "    total_df = total_df.reset_index(drop=True)\n",
    "    return total_df"
   ]
  },
  {
   "cell_type": "code",
   "execution_count": null,
   "metadata": {},
   "outputs": [],
   "source": [
    "#apply each class\n",
    "click_by_class(4, 7)\n",
    "time.sleep(10)\n",
    "html = driver.page_source\n",
    "urls = players_info(html)\n",
    "comment_df = get_comment(urls)\n",
    "comment_df.to_csv(\"./comment_data/\"+seasons[3][6]+'_comment.csv', mode='w')"
   ]
  },
  {
   "cell_type": "code",
   "execution_count": null,
   "metadata": {
    "scrolled": false
   },
   "outputs": [],
   "source": [
    "#check saved data\n",
    "data = pd.read_csv('./comment_data/'+seasons[3][1]+\"_comment.csv\")\n",
    "data"
   ]
  },
  {
   "cell_type": "code",
   "execution_count": null,
   "metadata": {},
   "outputs": [],
   "source": []
  }
 ],
 "metadata": {
  "kernelspec": {
   "display_name": "Python 3",
   "language": "python",
   "name": "python3"
  },
  "language_info": {
   "codemirror_mode": {
    "name": "ipython",
    "version": 3
   },
   "file_extension": ".py",
   "mimetype": "text/x-python",
   "name": "python",
   "nbconvert_exporter": "python",
   "pygments_lexer": "ipython3",
   "version": "3.6.8"
  }
 },
 "nbformat": 4,
 "nbformat_minor": 2
}
